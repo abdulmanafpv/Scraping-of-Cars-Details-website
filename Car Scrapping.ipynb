{
 "cells": [
  {
   "cell_type": "code",
   "execution_count": 2,
   "id": "8a6e9366",
   "metadata": {},
   "outputs": [
    {
     "name": "stdout",
     "output_type": "stream",
     "text": [
      "Collecting autoscraperNote: you may need to restart the kernel to use updated packages.\n"
     ]
    },
    {
     "name": "stderr",
     "output_type": "stream",
     "text": [
      "WARNING: Ignoring invalid distribution -cipy (c:\\programdata\\anaconda3\\lib\\site-packages)\n",
      "WARNING: Ignoring invalid distribution -cipy (c:\\programdata\\anaconda3\\lib\\site-packages)\n",
      "WARNING: Ignoring invalid distribution -cipy (c:\\programdata\\anaconda3\\lib\\site-packages)\n",
      "WARNING: Ignoring invalid distribution -cipy (c:\\programdata\\anaconda3\\lib\\site-packages)\n",
      "WARNING: Ignoring invalid distribution -cipy (c:\\programdata\\anaconda3\\lib\\site-packages)\n",
      "WARNING: Ignoring invalid distribution -cipy (c:\\programdata\\anaconda3\\lib\\site-packages)\n",
      "WARNING: Ignoring invalid distribution -cipy (c:\\programdata\\anaconda3\\lib\\site-packages)\n",
      "WARNING: Ignoring invalid distribution -cipy (c:\\programdata\\anaconda3\\lib\\site-packages)\n"
     ]
    },
    {
     "name": "stdout",
     "output_type": "stream",
     "text": [
      "\n",
      "  Downloading autoscraper-1.1.12-py3-none-any.whl (10 kB)\n",
      "Requirement already satisfied: lxml in c:\\programdata\\anaconda3\\lib\\site-packages (from autoscraper) (4.7.1)\n",
      "Collecting bs4\n",
      "  Downloading bs4-0.0.1.tar.gz (1.1 kB)\n",
      "Requirement already satisfied: requests in c:\\programdata\\anaconda3\\lib\\site-packages (from autoscraper) (2.26.0)\n",
      "Requirement already satisfied: beautifulsoup4 in c:\\programdata\\anaconda3\\lib\\site-packages (from bs4->autoscraper) (4.10.0)\n",
      "Requirement already satisfied: soupsieve>1.2 in c:\\programdata\\anaconda3\\lib\\site-packages (from beautifulsoup4->bs4->autoscraper) (2.3.1)\n",
      "Requirement already satisfied: urllib3<1.27,>=1.21.1 in c:\\programdata\\anaconda3\\lib\\site-packages (from requests->autoscraper) (1.26.7)\n",
      "Requirement already satisfied: charset-normalizer~=2.0.0 in c:\\programdata\\anaconda3\\lib\\site-packages (from requests->autoscraper) (2.0.4)\n",
      "Requirement already satisfied: idna<4,>=2.5 in c:\\programdata\\anaconda3\\lib\\site-packages (from requests->autoscraper) (3.3)\n",
      "Requirement already satisfied: certifi>=2017.4.17 in c:\\programdata\\anaconda3\\lib\\site-packages (from requests->autoscraper) (2021.10.8)\n",
      "Building wheels for collected packages: bs4\n",
      "  Building wheel for bs4 (setup.py): started\n",
      "  Building wheel for bs4 (setup.py): finished with status 'done'\n",
      "  Created wheel for bs4: filename=bs4-0.0.1-py3-none-any.whl size=1271 sha256=e2bfc730b737943cacdb16a77e4473b833a2f7036499915e4a4734b5a68575f3\n",
      "  Stored in directory: c:\\users\\user\\appdata\\local\\pip\\cache\\wheels\\75\\78\\21\\68b124549c9bdc94f822c02fb9aa3578a669843f9767776bca\n",
      "Successfully built bs4\n",
      "Installing collected packages: bs4, autoscraper\n",
      "Successfully installed autoscraper-1.1.12 bs4-0.0.1\n"
     ]
    }
   ],
   "source": [
    "pip install autoscraper"
   ]
  },
  {
   "cell_type": "code",
   "execution_count": 2,
   "id": "9ae58d09",
   "metadata": {},
   "outputs": [],
   "source": [
    "from autoscraper import AutoScraper\n",
    "import pandas as pd"
   ]
  },
  {
   "cell_type": "markdown",
   "id": "25ccefd8",
   "metadata": {},
   "source": [
    "# Task 1"
   ]
  },
  {
   "cell_type": "markdown",
   "id": "f06e0bb5",
   "metadata": {},
   "source": [
    "## Use the url which used for scrapping and I take Car price(MSRP), Car name as details for scrapping"
   ]
  },
  {
   "cell_type": "code",
   "execution_count": 3,
   "id": "36b6bd48",
   "metadata": {},
   "outputs": [],
   "source": [
    "auto_url= \"https://www.gotoauto.ca/inventory/\"\n",
    "wanted_list=['$19,995','2015 Audi A4 Komfort plus S-line Quattro Sedan - P...']"
   ]
  },
  {
   "cell_type": "code",
   "execution_count": 4,
   "id": "ea182dd3",
   "metadata": {},
   "outputs": [
    {
     "name": "stdout",
     "output_type": "stream",
     "text": [
      "['$19,995', '$29,995', '$22,995', '$34,995', '$32,995', '$30,995', '$16,995', '$12,995', '$28,995', '$21,995', '2015 Audi A4 Komfort plus S-line Quattro Sedan - P...', '2017 Audi Q5 Progressiv Quattro SUV - Parking sens...', '2012 Audi S4 Prestige Quattro Sedan - Nav|Camera|P...', '2014 Audi S5 Technik Quattro Coupe - Nav|Camera|Pa...', '2014 Audi S6 Quattro Sedan - Nav|360 Camera|Blind-...', '2013 Audi S7 Sportback Quattro - Navigation|Camera...', '2018 BMW 3-Series 330i xDrive Sedan - Navigation|R...', '2015 BMW 3-Series 335i xDrive M Sport Sedan -Nav|C...', '2013 BMW 3-Series 328i xDrive Luxury line Sedan - ...', '2015 BMW 4-Series 435i xDrive Gran Coupe - Nav|Cam...', '2013 BMW 7-Series 750Li xDrive M Sport Sedan - Nav...', '2012 BMW X1 xDrive28i SUV - Navigation|Leather|Hea...', '2017 BMW X4 xDrive28i SUV - Nav|360 Camera|Blind-s...', '2018 Honda Accord EX-L Sedan - Camera|Lane assist|...', '2016 Jeep Compass High Altitude 4WD SUV - Camera|L...']\n"
     ]
    }
   ],
   "source": [
    "scrapper=AutoScraper()\n",
    "result=scrapper.build(auto_url,wanted_list)\n",
    "print(result)"
   ]
  },
  {
   "cell_type": "code",
   "execution_count": 5,
   "id": "335398ab",
   "metadata": {},
   "outputs": [
    {
     "data": {
      "text/plain": [
       "{'rule_mrvf': ['$19,995',\n",
       "  '$29,995',\n",
       "  '$22,995',\n",
       "  '$29,995',\n",
       "  '$34,995',\n",
       "  '$34,995',\n",
       "  '$32,995',\n",
       "  '$30,995',\n",
       "  '$16,995',\n",
       "  '$34,995',\n",
       "  '$19,995',\n",
       "  '$12,995',\n",
       "  '$34,995',\n",
       "  '$28,995',\n",
       "  '$19,995'],\n",
       " 'rule_g68g': ['$19,995',\n",
       "  '$29,995',\n",
       "  '$22,995',\n",
       "  '$29,995',\n",
       "  '$34,995',\n",
       "  '$34,995',\n",
       "  '$32,995',\n",
       "  '$30,995',\n",
       "  '$16,995',\n",
       "  '$34,995',\n",
       "  '$19,995',\n",
       "  '$12,995',\n",
       "  '$34,995',\n",
       "  '$28,995',\n",
       "  '$19,995'],\n",
       " 'rule_gsc4': ['$19,995',\n",
       "  '$29,995',\n",
       "  '$22,995',\n",
       "  '$29,995',\n",
       "  '$34,995',\n",
       "  '$34,995',\n",
       "  '$32,995',\n",
       "  '$30,995',\n",
       "  '$16,995',\n",
       "  '$34,995',\n",
       "  '$19,995',\n",
       "  '$12,995',\n",
       "  '$34,995',\n",
       "  '$28,995',\n",
       "  '$19,995'],\n",
       " 'rule_1p9p': ['$29,995',\n",
       "  '$28,995',\n",
       "  '$19,995',\n",
       "  '$32,995',\n",
       "  '$29,995',\n",
       "  '$21,995'],\n",
       " 'rule_ccvy': ['2015 Audi A4 Komfort plus S-line Quattro Sedan - P...',\n",
       "  '2017 Audi Q5 Progressiv Quattro SUV - Parking sens...',\n",
       "  '2012 Audi S4 Prestige Quattro Sedan - Nav|Camera|P...',\n",
       "  '2014 Audi S5 Technik Quattro Coupe - Nav|Camera|Pa...',\n",
       "  '2014 Audi S6 Quattro Sedan - Nav|360 Camera|Blind-...',\n",
       "  '2013 Audi S7 Sportback Quattro - Navigation|Camera...',\n",
       "  '2018 BMW 3-Series 330i xDrive Sedan - Navigation|R...',\n",
       "  '2015 BMW 3-Series 335i xDrive M Sport Sedan -Nav|C...',\n",
       "  '2013 BMW 3-Series 328i xDrive Luxury line Sedan - ...',\n",
       "  '2015 BMW 4-Series 435i xDrive Gran Coupe - Nav|Cam...',\n",
       "  '2013 BMW 7-Series 750Li xDrive M Sport Sedan - Nav...',\n",
       "  '2012 BMW X1 xDrive28i SUV - Navigation|Leather|Hea...',\n",
       "  '2017 BMW X4 xDrive28i SUV - Nav|360 Camera|Blind-s...',\n",
       "  '2018 Honda Accord EX-L Sedan - Camera|Lane assist|...',\n",
       "  '2016 Jeep Compass High Altitude 4WD SUV - Camera|L...']}"
      ]
     },
     "execution_count": 5,
     "metadata": {},
     "output_type": "execute_result"
    }
   ],
   "source": [
    "scrapper.get_result_similar(auto_url,grouped=True)"
   ]
  },
  {
   "cell_type": "code",
   "execution_count": 24,
   "id": "ea190d30",
   "metadata": {},
   "outputs": [],
   "source": [
    "scrapper.set_rule_aliases({'rule_ccvy':'Title','rule_mrvf':'Price(MSRP)'})\n",
    "scrapper.keep_rules(['rule_ccvy','rule_mrvf'])\n",
    "scrapper.save('car-name')"
   ]
  },
  {
   "cell_type": "markdown",
   "id": "6e88f486",
   "metadata": {},
   "source": [
    "## I take same url, because we want to make a dataframe"
   ]
  },
  {
   "cell_type": "code",
   "execution_count": 25,
   "id": "99973000",
   "metadata": {},
   "outputs": [],
   "source": [
    "results=scrapper.get_result_similar(\"https://www.gotoauto.ca/inventory/\",group_by_alias=True)"
   ]
  },
  {
   "cell_type": "code",
   "execution_count": 26,
   "id": "c5067ecd",
   "metadata": {},
   "outputs": [
    {
     "data": {
      "text/plain": [
       "{'Price(MSRP)': ['$19,995',\n",
       "  '$29,995',\n",
       "  '$22,995',\n",
       "  '$29,995',\n",
       "  '$34,995',\n",
       "  '$34,995',\n",
       "  '$32,995',\n",
       "  '$30,995',\n",
       "  '$16,995',\n",
       "  '$34,995',\n",
       "  '$19,995',\n",
       "  '$12,995',\n",
       "  '$34,995',\n",
       "  '$28,995',\n",
       "  '$19,995'],\n",
       " 'Title': ['2015 Audi A4 Komfort plus S-line Quattro Sedan - P...',\n",
       "  '2017 Audi Q5 Progressiv Quattro SUV - Parking sens...',\n",
       "  '2012 Audi S4 Prestige Quattro Sedan - Nav|Camera|P...',\n",
       "  '2014 Audi S5 Technik Quattro Coupe - Nav|Camera|Pa...',\n",
       "  '2014 Audi S6 Quattro Sedan - Nav|360 Camera|Blind-...',\n",
       "  '2013 Audi S7 Sportback Quattro - Navigation|Camera...',\n",
       "  '2018 BMW 3-Series 330i xDrive Sedan - Navigation|R...',\n",
       "  '2015 BMW 3-Series 335i xDrive M Sport Sedan -Nav|C...',\n",
       "  '2013 BMW 3-Series 328i xDrive Luxury line Sedan - ...',\n",
       "  '2015 BMW 4-Series 435i xDrive Gran Coupe - Nav|Cam...',\n",
       "  '2013 BMW 7-Series 750Li xDrive M Sport Sedan - Nav...',\n",
       "  '2012 BMW X1 xDrive28i SUV - Navigation|Leather|Hea...',\n",
       "  '2017 BMW X4 xDrive28i SUV - Nav|360 Camera|Blind-s...',\n",
       "  '2018 Honda Accord EX-L Sedan - Camera|Lane assist|...',\n",
       "  '2016 Jeep Compass High Altitude 4WD SUV - Camera|L...']}"
      ]
     },
     "execution_count": 26,
     "metadata": {},
     "output_type": "execute_result"
    }
   ],
   "source": [
    "results"
   ]
  },
  {
   "cell_type": "code",
   "execution_count": 27,
   "id": "ef26c110",
   "metadata": {},
   "outputs": [
    {
     "data": {
      "text/plain": [
       "['2015 Audi A4 Komfort plus S-line Quattro Sedan - P...',\n",
       " '2017 Audi Q5 Progressiv Quattro SUV - Parking sens...',\n",
       " '2012 Audi S4 Prestige Quattro Sedan - Nav|Camera|P...',\n",
       " '2014 Audi S5 Technik Quattro Coupe - Nav|Camera|Pa...',\n",
       " '2014 Audi S6 Quattro Sedan - Nav|360 Camera|Blind-...',\n",
       " '2013 Audi S7 Sportback Quattro - Navigation|Camera...',\n",
       " '2018 BMW 3-Series 330i xDrive Sedan - Navigation|R...',\n",
       " '2015 BMW 3-Series 335i xDrive M Sport Sedan -Nav|C...',\n",
       " '2013 BMW 3-Series 328i xDrive Luxury line Sedan - ...',\n",
       " '2015 BMW 4-Series 435i xDrive Gran Coupe - Nav|Cam...',\n",
       " '2013 BMW 7-Series 750Li xDrive M Sport Sedan - Nav...',\n",
       " '2012 BMW X1 xDrive28i SUV - Navigation|Leather|Hea...',\n",
       " '2017 BMW X4 xDrive28i SUV - Nav|360 Camera|Blind-s...',\n",
       " '2018 Honda Accord EX-L Sedan - Camera|Lane assist|...',\n",
       " '2016 Jeep Compass High Altitude 4WD SUV - Camera|L...']"
      ]
     },
     "execution_count": 27,
     "metadata": {},
     "output_type": "execute_result"
    }
   ],
   "source": [
    "results['Title']"
   ]
  },
  {
   "cell_type": "code",
   "execution_count": 28,
   "id": "76023a89",
   "metadata": {},
   "outputs": [
    {
     "data": {
      "text/plain": [
       "['$19,995',\n",
       " '$29,995',\n",
       " '$22,995',\n",
       " '$29,995',\n",
       " '$34,995',\n",
       " '$34,995',\n",
       " '$32,995',\n",
       " '$30,995',\n",
       " '$16,995',\n",
       " '$34,995',\n",
       " '$19,995',\n",
       " '$12,995',\n",
       " '$34,995',\n",
       " '$28,995',\n",
       " '$19,995']"
      ]
     },
     "execution_count": 28,
     "metadata": {},
     "output_type": "execute_result"
    }
   ],
   "source": [
    "results['Price(MSRP)']"
   ]
  },
  {
   "cell_type": "markdown",
   "id": "eff8d7ec",
   "metadata": {},
   "source": [
    "## We want to scrape the  cars names and prices of page 2 also"
   ]
  },
  {
   "cell_type": "code",
   "execution_count": 29,
   "id": "50d9fd42",
   "metadata": {},
   "outputs": [],
   "source": [
    "results_1=scrapper.get_result_similar(\"https://www.gotoauto.ca/inventory/?pg=2\",group_by_alias=True)"
   ]
  },
  {
   "cell_type": "code",
   "execution_count": 30,
   "id": "7e5eb7b7",
   "metadata": {},
   "outputs": [
    {
     "data": {
      "text/plain": [
       "['2008 Land Rover Range Rover HSE 4WD SUV - Nav|Came...',\n",
       " '2014 Land Rover Range Rover Evoque Dynamic 4WD HB ...',\n",
       " '2016 Mercedes-Benz C-Class C300 4Matic Sedan - Nav...',\n",
       " '2016 Mercedes-Benz CLS 400 4Matic - Nav|360 Camera...',\n",
       " '2014 Mercedes-Benz CLS-Class CLS 550 - Nav|Camera|...',\n",
       " '2017 Mercedes-Benz E-Class E400 4Matic Coupe - Nav...',\n",
       " '2013 Mercedes-Benz GLK-Class GLK250 BlueTEC 4Matic...',\n",
       " '2017 Mini Cooper Clubman S ALL4 Hatchback - Parkin...',\n",
       " '2013 Mini Cooper Paceman Coupe - Leather|Heated se...',\n",
       " '2016 Subaru WRX w-Sport-tech Pkg AWD Sedan-Nav|Cam...',\n",
       " '2016 Volkswagen Golf GTI Autobahn Hatchback - Nav|...',\n",
       " '2016 Volvo V60 T6 Drive-E Premier AWD Wagon -Nav|P...',\n",
       " '2016 Volvo XC60 T5 Special Edition Premier AWD SUV...',\n",
       " '2016 Volvo XC90 T6 Inscription AWD SUV - Nav|360 C...']"
      ]
     },
     "execution_count": 30,
     "metadata": {},
     "output_type": "execute_result"
    }
   ],
   "source": [
    "results_1['Title']"
   ]
  },
  {
   "cell_type": "code",
   "execution_count": 31,
   "id": "2d65028f",
   "metadata": {},
   "outputs": [
    {
     "data": {
      "text/plain": [
       "['$13,995',\n",
       " '$30,995',\n",
       " '$29,995',\n",
       " '$35,995',\n",
       " '$29,995',\n",
       " '$36,995',\n",
       " '$21,995',\n",
       " '$20,995',\n",
       " '$12,995',\n",
       " '$27,995',\n",
       " '$23,995',\n",
       " '$28,995',\n",
       " '$29,995',\n",
       " '$38,995']"
      ]
     },
     "execution_count": 31,
     "metadata": {},
     "output_type": "execute_result"
    }
   ],
   "source": [
    "results_1['Price(MSRP)']"
   ]
  },
  {
   "cell_type": "markdown",
   "id": "589082d9",
   "metadata": {},
   "source": [
    "## First we make a dictionary . We can convert dictionary to dataframe"
   ]
  },
  {
   "cell_type": "code",
   "execution_count": 33,
   "id": "2133be1f",
   "metadata": {},
   "outputs": [],
   "source": [
    "Data={'Car Name':results['Title']+results_1['Title'], 'Car Price(MSRP)':results['Price(MSRP)']+results_1['Price(MSRP)']}"
   ]
  },
  {
   "cell_type": "code",
   "execution_count": 34,
   "id": "48b2e8c2",
   "metadata": {},
   "outputs": [
    {
     "data": {
      "text/plain": [
       "{'Car Name': ['2015 Audi A4 Komfort plus S-line Quattro Sedan - P...',\n",
       "  '2017 Audi Q5 Progressiv Quattro SUV - Parking sens...',\n",
       "  '2012 Audi S4 Prestige Quattro Sedan - Nav|Camera|P...',\n",
       "  '2014 Audi S5 Technik Quattro Coupe - Nav|Camera|Pa...',\n",
       "  '2014 Audi S6 Quattro Sedan - Nav|360 Camera|Blind-...',\n",
       "  '2013 Audi S7 Sportback Quattro - Navigation|Camera...',\n",
       "  '2018 BMW 3-Series 330i xDrive Sedan - Navigation|R...',\n",
       "  '2015 BMW 3-Series 335i xDrive M Sport Sedan -Nav|C...',\n",
       "  '2013 BMW 3-Series 328i xDrive Luxury line Sedan - ...',\n",
       "  '2015 BMW 4-Series 435i xDrive Gran Coupe - Nav|Cam...',\n",
       "  '2013 BMW 7-Series 750Li xDrive M Sport Sedan - Nav...',\n",
       "  '2012 BMW X1 xDrive28i SUV - Navigation|Leather|Hea...',\n",
       "  '2017 BMW X4 xDrive28i SUV - Nav|360 Camera|Blind-s...',\n",
       "  '2018 Honda Accord EX-L Sedan - Camera|Lane assist|...',\n",
       "  '2016 Jeep Compass High Altitude 4WD SUV - Camera|L...',\n",
       "  '2008 Land Rover Range Rover HSE 4WD SUV - Nav|Came...',\n",
       "  '2014 Land Rover Range Rover Evoque Dynamic 4WD HB ...',\n",
       "  '2016 Mercedes-Benz C-Class C300 4Matic Sedan - Nav...',\n",
       "  '2016 Mercedes-Benz CLS 400 4Matic - Nav|360 Camera...',\n",
       "  '2014 Mercedes-Benz CLS-Class CLS 550 - Nav|Camera|...',\n",
       "  '2017 Mercedes-Benz E-Class E400 4Matic Coupe - Nav...',\n",
       "  '2013 Mercedes-Benz GLK-Class GLK250 BlueTEC 4Matic...',\n",
       "  '2017 Mini Cooper Clubman S ALL4 Hatchback - Parkin...',\n",
       "  '2013 Mini Cooper Paceman Coupe - Leather|Heated se...',\n",
       "  '2016 Subaru WRX w-Sport-tech Pkg AWD Sedan-Nav|Cam...',\n",
       "  '2016 Volkswagen Golf GTI Autobahn Hatchback - Nav|...',\n",
       "  '2016 Volvo V60 T6 Drive-E Premier AWD Wagon -Nav|P...',\n",
       "  '2016 Volvo XC60 T5 Special Edition Premier AWD SUV...',\n",
       "  '2016 Volvo XC90 T6 Inscription AWD SUV - Nav|360 C...'],\n",
       " 'Car Price(MSRP)': ['$19,995',\n",
       "  '$29,995',\n",
       "  '$22,995',\n",
       "  '$29,995',\n",
       "  '$34,995',\n",
       "  '$34,995',\n",
       "  '$32,995',\n",
       "  '$30,995',\n",
       "  '$16,995',\n",
       "  '$34,995',\n",
       "  '$19,995',\n",
       "  '$12,995',\n",
       "  '$34,995',\n",
       "  '$28,995',\n",
       "  '$19,995',\n",
       "  '$13,995',\n",
       "  '$30,995',\n",
       "  '$29,995',\n",
       "  '$35,995',\n",
       "  '$29,995',\n",
       "  '$36,995',\n",
       "  '$21,995',\n",
       "  '$20,995',\n",
       "  '$12,995',\n",
       "  '$27,995',\n",
       "  '$23,995',\n",
       "  '$28,995',\n",
       "  '$29,995',\n",
       "  '$38,995']}"
      ]
     },
     "execution_count": 34,
     "metadata": {},
     "output_type": "execute_result"
    }
   ],
   "source": [
    "Data"
   ]
  },
  {
   "cell_type": "markdown",
   "id": "ba60d7f6",
   "metadata": {},
   "source": [
    "## Convert dictionary to a dataframe"
   ]
  },
  {
   "cell_type": "code",
   "execution_count": 35,
   "id": "cdc6ced2",
   "metadata": {},
   "outputs": [
    {
     "data": {
      "text/html": [
       "<div>\n",
       "<style scoped>\n",
       "    .dataframe tbody tr th:only-of-type {\n",
       "        vertical-align: middle;\n",
       "    }\n",
       "\n",
       "    .dataframe tbody tr th {\n",
       "        vertical-align: top;\n",
       "    }\n",
       "\n",
       "    .dataframe thead th {\n",
       "        text-align: right;\n",
       "    }\n",
       "</style>\n",
       "<table border=\"1\" class=\"dataframe\">\n",
       "  <thead>\n",
       "    <tr style=\"text-align: right;\">\n",
       "      <th></th>\n",
       "      <th>Car Name</th>\n",
       "      <th>Car Price(MSRP)</th>\n",
       "    </tr>\n",
       "  </thead>\n",
       "  <tbody>\n",
       "    <tr>\n",
       "      <th>0</th>\n",
       "      <td>2015 Audi A4 Komfort plus S-line Quattro Sedan...</td>\n",
       "      <td>$19,995</td>\n",
       "    </tr>\n",
       "    <tr>\n",
       "      <th>1</th>\n",
       "      <td>2017 Audi Q5 Progressiv Quattro SUV - Parking ...</td>\n",
       "      <td>$29,995</td>\n",
       "    </tr>\n",
       "    <tr>\n",
       "      <th>2</th>\n",
       "      <td>2012 Audi S4 Prestige Quattro Sedan - Nav|Came...</td>\n",
       "      <td>$22,995</td>\n",
       "    </tr>\n",
       "    <tr>\n",
       "      <th>3</th>\n",
       "      <td>2014 Audi S5 Technik Quattro Coupe - Nav|Camer...</td>\n",
       "      <td>$29,995</td>\n",
       "    </tr>\n",
       "    <tr>\n",
       "      <th>4</th>\n",
       "      <td>2014 Audi S6 Quattro Sedan - Nav|360 Camera|Bl...</td>\n",
       "      <td>$34,995</td>\n",
       "    </tr>\n",
       "    <tr>\n",
       "      <th>5</th>\n",
       "      <td>2013 Audi S7 Sportback Quattro - Navigation|Ca...</td>\n",
       "      <td>$34,995</td>\n",
       "    </tr>\n",
       "    <tr>\n",
       "      <th>6</th>\n",
       "      <td>2018 BMW 3-Series 330i xDrive Sedan - Navigati...</td>\n",
       "      <td>$32,995</td>\n",
       "    </tr>\n",
       "    <tr>\n",
       "      <th>7</th>\n",
       "      <td>2015 BMW 3-Series 335i xDrive M Sport Sedan -N...</td>\n",
       "      <td>$30,995</td>\n",
       "    </tr>\n",
       "    <tr>\n",
       "      <th>8</th>\n",
       "      <td>2013 BMW 3-Series 328i xDrive Luxury line Seda...</td>\n",
       "      <td>$16,995</td>\n",
       "    </tr>\n",
       "    <tr>\n",
       "      <th>9</th>\n",
       "      <td>2015 BMW 4-Series 435i xDrive Gran Coupe - Nav...</td>\n",
       "      <td>$34,995</td>\n",
       "    </tr>\n",
       "    <tr>\n",
       "      <th>10</th>\n",
       "      <td>2013 BMW 7-Series 750Li xDrive M Sport Sedan -...</td>\n",
       "      <td>$19,995</td>\n",
       "    </tr>\n",
       "    <tr>\n",
       "      <th>11</th>\n",
       "      <td>2012 BMW X1 xDrive28i SUV - Navigation|Leather...</td>\n",
       "      <td>$12,995</td>\n",
       "    </tr>\n",
       "    <tr>\n",
       "      <th>12</th>\n",
       "      <td>2017 BMW X4 xDrive28i SUV - Nav|360 Camera|Bli...</td>\n",
       "      <td>$34,995</td>\n",
       "    </tr>\n",
       "    <tr>\n",
       "      <th>13</th>\n",
       "      <td>2018 Honda Accord EX-L Sedan - Camera|Lane ass...</td>\n",
       "      <td>$28,995</td>\n",
       "    </tr>\n",
       "    <tr>\n",
       "      <th>14</th>\n",
       "      <td>2016 Jeep Compass High Altitude 4WD SUV - Came...</td>\n",
       "      <td>$19,995</td>\n",
       "    </tr>\n",
       "    <tr>\n",
       "      <th>15</th>\n",
       "      <td>2008 Land Rover Range Rover HSE 4WD SUV - Nav|...</td>\n",
       "      <td>$13,995</td>\n",
       "    </tr>\n",
       "    <tr>\n",
       "      <th>16</th>\n",
       "      <td>2014 Land Rover Range Rover Evoque Dynamic 4WD...</td>\n",
       "      <td>$30,995</td>\n",
       "    </tr>\n",
       "    <tr>\n",
       "      <th>17</th>\n",
       "      <td>2016 Mercedes-Benz C-Class C300 4Matic Sedan -...</td>\n",
       "      <td>$29,995</td>\n",
       "    </tr>\n",
       "    <tr>\n",
       "      <th>18</th>\n",
       "      <td>2016 Mercedes-Benz CLS 400 4Matic - Nav|360 Ca...</td>\n",
       "      <td>$35,995</td>\n",
       "    </tr>\n",
       "    <tr>\n",
       "      <th>19</th>\n",
       "      <td>2014 Mercedes-Benz CLS-Class CLS 550 - Nav|Cam...</td>\n",
       "      <td>$29,995</td>\n",
       "    </tr>\n",
       "    <tr>\n",
       "      <th>20</th>\n",
       "      <td>2017 Mercedes-Benz E-Class E400 4Matic Coupe -...</td>\n",
       "      <td>$36,995</td>\n",
       "    </tr>\n",
       "    <tr>\n",
       "      <th>21</th>\n",
       "      <td>2013 Mercedes-Benz GLK-Class GLK250 BlueTEC 4M...</td>\n",
       "      <td>$21,995</td>\n",
       "    </tr>\n",
       "    <tr>\n",
       "      <th>22</th>\n",
       "      <td>2017 Mini Cooper Clubman S ALL4 Hatchback - Pa...</td>\n",
       "      <td>$20,995</td>\n",
       "    </tr>\n",
       "    <tr>\n",
       "      <th>23</th>\n",
       "      <td>2013 Mini Cooper Paceman Coupe - Leather|Heate...</td>\n",
       "      <td>$12,995</td>\n",
       "    </tr>\n",
       "    <tr>\n",
       "      <th>24</th>\n",
       "      <td>2016 Subaru WRX w-Sport-tech Pkg AWD Sedan-Nav...</td>\n",
       "      <td>$27,995</td>\n",
       "    </tr>\n",
       "    <tr>\n",
       "      <th>25</th>\n",
       "      <td>2016 Volkswagen Golf GTI Autobahn Hatchback - ...</td>\n",
       "      <td>$23,995</td>\n",
       "    </tr>\n",
       "    <tr>\n",
       "      <th>26</th>\n",
       "      <td>2016 Volvo V60 T6 Drive-E Premier AWD Wagon -N...</td>\n",
       "      <td>$28,995</td>\n",
       "    </tr>\n",
       "    <tr>\n",
       "      <th>27</th>\n",
       "      <td>2016 Volvo XC60 T5 Special Edition Premier AWD...</td>\n",
       "      <td>$29,995</td>\n",
       "    </tr>\n",
       "    <tr>\n",
       "      <th>28</th>\n",
       "      <td>2016 Volvo XC90 T6 Inscription AWD SUV - Nav|3...</td>\n",
       "      <td>$38,995</td>\n",
       "    </tr>\n",
       "  </tbody>\n",
       "</table>\n",
       "</div>"
      ],
      "text/plain": [
       "                                             Car Name Car Price(MSRP)\n",
       "0   2015 Audi A4 Komfort plus S-line Quattro Sedan...         $19,995\n",
       "1   2017 Audi Q5 Progressiv Quattro SUV - Parking ...         $29,995\n",
       "2   2012 Audi S4 Prestige Quattro Sedan - Nav|Came...         $22,995\n",
       "3   2014 Audi S5 Technik Quattro Coupe - Nav|Camer...         $29,995\n",
       "4   2014 Audi S6 Quattro Sedan - Nav|360 Camera|Bl...         $34,995\n",
       "5   2013 Audi S7 Sportback Quattro - Navigation|Ca...         $34,995\n",
       "6   2018 BMW 3-Series 330i xDrive Sedan - Navigati...         $32,995\n",
       "7   2015 BMW 3-Series 335i xDrive M Sport Sedan -N...         $30,995\n",
       "8   2013 BMW 3-Series 328i xDrive Luxury line Seda...         $16,995\n",
       "9   2015 BMW 4-Series 435i xDrive Gran Coupe - Nav...         $34,995\n",
       "10  2013 BMW 7-Series 750Li xDrive M Sport Sedan -...         $19,995\n",
       "11  2012 BMW X1 xDrive28i SUV - Navigation|Leather...         $12,995\n",
       "12  2017 BMW X4 xDrive28i SUV - Nav|360 Camera|Bli...         $34,995\n",
       "13  2018 Honda Accord EX-L Sedan - Camera|Lane ass...         $28,995\n",
       "14  2016 Jeep Compass High Altitude 4WD SUV - Came...         $19,995\n",
       "15  2008 Land Rover Range Rover HSE 4WD SUV - Nav|...         $13,995\n",
       "16  2014 Land Rover Range Rover Evoque Dynamic 4WD...         $30,995\n",
       "17  2016 Mercedes-Benz C-Class C300 4Matic Sedan -...         $29,995\n",
       "18  2016 Mercedes-Benz CLS 400 4Matic - Nav|360 Ca...         $35,995\n",
       "19  2014 Mercedes-Benz CLS-Class CLS 550 - Nav|Cam...         $29,995\n",
       "20  2017 Mercedes-Benz E-Class E400 4Matic Coupe -...         $36,995\n",
       "21  2013 Mercedes-Benz GLK-Class GLK250 BlueTEC 4M...         $21,995\n",
       "22  2017 Mini Cooper Clubman S ALL4 Hatchback - Pa...         $20,995\n",
       "23  2013 Mini Cooper Paceman Coupe - Leather|Heate...         $12,995\n",
       "24  2016 Subaru WRX w-Sport-tech Pkg AWD Sedan-Nav...         $27,995\n",
       "25  2016 Volkswagen Golf GTI Autobahn Hatchback - ...         $23,995\n",
       "26  2016 Volvo V60 T6 Drive-E Premier AWD Wagon -N...         $28,995\n",
       "27  2016 Volvo XC60 T5 Special Edition Premier AWD...         $29,995\n",
       "28  2016 Volvo XC90 T6 Inscription AWD SUV - Nav|3...         $38,995"
      ]
     },
     "execution_count": 35,
     "metadata": {},
     "output_type": "execute_result"
    }
   ],
   "source": [
    "DataFrame=pd.DataFrame(Data)\n",
    "DataFrame"
   ]
  },
  {
   "cell_type": "markdown",
   "id": "7ab87ad3",
   "metadata": {},
   "source": [
    "## Take csv file of car names and price(MSRP). The name of csv file is 'task_1.csv.'"
   ]
  },
  {
   "cell_type": "code",
   "execution_count": 36,
   "id": "3acb448b",
   "metadata": {},
   "outputs": [],
   "source": [
    "DataFrame.to_csv('task_1.csv.')"
   ]
  },
  {
   "cell_type": "markdown",
   "id": "86b5612c",
   "metadata": {},
   "source": [
    "# Task 2"
   ]
  },
  {
   "cell_type": "markdown",
   "id": "a8742f59",
   "metadata": {},
   "source": [
    "## Scrapping of Car details"
   ]
  },
  {
   "cell_type": "code",
   "execution_count": 37,
   "id": "15e13af5",
   "metadata": {},
   "outputs": [],
   "source": [
    "auto_details_url='https://www.gotoauto.ca/inventory/view/14862358/'"
   ]
  },
  {
   "cell_type": "markdown",
   "id": "2bb6095f",
   "metadata": {},
   "source": [
    "## In this scrapping we need only car description"
   ]
  },
  {
   "cell_type": "code",
   "execution_count": 38,
   "id": "79653332",
   "metadata": {},
   "outputs": [],
   "source": [
    "wanted_list_details=[\"The A4 uses a turbocharged 2.0-litre four-cylinder engine (220 hp/258 lb-ft of torque), comes with six-speed manual transmission and Audi's Quattro all-wheel drive system. Equipped with S-line pkg.Loaded with parking system with rear acoustic sensors, Audi drive select, leather seats, power sunroof, power windows, power heated auto-dimming side mirrors with integrated LED turn indicator lights, power-adjustable seats with lumbar support, heated seats, power locks/Advanced key with pushbutton start, dual-zone automatic climate control, cruise control, three-spoke multi-function leather-trimmed steering wheel, CD player with premium sound system and steering audio controls, AUX/Satellite radio/Bluetooth connectivity, auto-dimming rear-view mirror with compass, Xenon plus headlights with LED daytime running lights with headlamp washers, front and rear fog lights, LED taillights, newer tires, alloy rims, ABS brakes, traction and stability control. Vehicle in mint condition, fun to drive, recently serviced and priced to sell. Trades welcome, extended warranty and financing available.\"]"
   ]
  },
  {
   "cell_type": "code",
   "execution_count": 39,
   "id": "8f386cd9",
   "metadata": {},
   "outputs": [
    {
     "name": "stdout",
     "output_type": "stream",
     "text": [
      "[\"The A4 uses a turbocharged 2.0-litre four-cylinder engine (220 hp/258 lb-ft of torque), comes with six-speed manual transmission and Audi's Quattro all-wheel drive system. Equipped with S-line pkg.Loaded with parking system with rear acoustic sensors, Audi drive select, leather seats, power sunroof, power windows, power heated auto-dimming side mirrors with integrated LED turn indicator lights, power-adjustable seats with lumbar support, heated seats, power locks/Advanced key with pushbutton start, dual-zone automatic climate control, cruise control, three-spoke multi-function leather-trimmed steering wheel, CD player with premium sound system and steering audio controls, AUX/Satellite radio/Bluetooth connectivity, auto-dimming rear-view mirror with compass, Xenon plus headlights with LED daytime running lights with headlamp washers, front and rear fog lights, LED taillights, newer tires, alloy rims, ABS brakes, traction and stability control. Vehicle in mint condition, fun to drive, recently serviced and priced to sell. Trades welcome, extended warranty and financing available.\", 'MECHANICAL', 'EXTERIOR', 'ENTERTAINMENT', 'INTERIOR', 'SAFETY']\n"
     ]
    }
   ],
   "source": [
    "result_description=scrapper.build(auto_details_url,wanted_list_details)\n",
    "print(result_description)"
   ]
  },
  {
   "cell_type": "code",
   "execution_count": 40,
   "id": "71884ef9",
   "metadata": {},
   "outputs": [
    {
     "data": {
      "text/plain": [
       "{'rule_727e': [\"The A4 uses a turbocharged 2.0-litre four-cylinder engine (220 hp/258 lb-ft of torque), comes with six-speed manual transmission and Audi's Quattro all-wheel drive system. Equipped with S-line pkg.Loaded with parking system with rear acoustic sensors, Audi drive select, leather seats, power sunroof, power windows, power heated auto-dimming side mirrors with integrated LED turn indicator lights, power-adjustable seats with lumbar support, heated seats, power locks/Advanced key with pushbutton start, dual-zone automatic climate control, cruise control, three-spoke multi-function leather-trimmed steering wheel, CD player with premium sound system and steering audio controls, AUX/Satellite radio/Bluetooth connectivity, auto-dimming rear-view mirror with compass, Xenon plus headlights with LED daytime running lights with headlamp washers, front and rear fog lights, LED taillights, newer tires, alloy rims, ABS brakes, traction and stability control. Vehicle in mint condition, fun to drive, recently serviced and priced to sell. Trades welcome, extended warranty and financing available.\",\n",
       "  'MECHANICAL',\n",
       "  'EXTERIOR',\n",
       "  'ENTERTAINMENT',\n",
       "  'INTERIOR',\n",
       "  'SAFETY']}"
      ]
     },
     "execution_count": 40,
     "metadata": {},
     "output_type": "execute_result"
    }
   ],
   "source": [
    "scrapper.get_result_similar(auto_details_url,grouped=True)"
   ]
  },
  {
   "cell_type": "code",
   "execution_count": 42,
   "id": "4ac1a015",
   "metadata": {},
   "outputs": [],
   "source": [
    "scrapper.set_rule_aliases({'rule_727e':'Description'})\n",
    "scrapper.keep_rules(['rule_727e'])\n",
    "scrapper.save('car-details')"
   ]
  },
  {
   "cell_type": "markdown",
   "id": "af85e98a",
   "metadata": {},
   "source": [
    "## We want to take 5 car details"
   ]
  },
  {
   "cell_type": "markdown",
   "id": "9c1609fb",
   "metadata": {},
   "source": [
    "## 1"
   ]
  },
  {
   "cell_type": "code",
   "execution_count": 43,
   "id": "a8fa16b2",
   "metadata": {},
   "outputs": [],
   "source": [
    "results_details=scrapper.get_result_similar(\"https://www.gotoauto.ca/inventory/view/14936812/\",group_by_alias=True)"
   ]
  },
  {
   "cell_type": "code",
   "execution_count": 44,
   "id": "7bbe9d11",
   "metadata": {},
   "outputs": [
    {
     "data": {
      "text/plain": [
       "{'Description': [\"The Q5 2.0T comes with a 2.0L turbocharged four-cylinder engine that makes 220 hp/258 lb-ft of torque, paired with eight-speed Tiptronic automatic transmission with drive select and Audi's Quattro all-wheel drive system.Loaded with rear parking sensors, leather seats, panoramic sunroof, power windows, power-folding and heated auto-dimming exterior mirrors with integrated LED turn signals, power-adjustable seats with driver's memory and lumbar, heated seats, power tailgate, power locks/Advanced key with pushbutton start, three-zone automatic climate control, cruise control, multifunction leather-wrapped tilt and telescopic steering wheel, CD player with premium sound system and steering audio controls, AUX/Sirius satellite radio/Bluetooth connectivity, auto-dimming rearview mirror with compass, automatic bi-xenon headlights with headlamp washers, LED daytime running lights, fog lights, LED taillights, newer tires, alloy rims, ABS brakes, traction and stability control. Vehicle in mint condition, lots of power, fun to drive, good for all season, recently serviced and priced to sell. Trades welcome, extended warranty and financing available.\",\n",
       "  'MECHANICAL',\n",
       "  'EXTERIOR',\n",
       "  'ENTERTAINMENT',\n",
       "  'INTERIOR',\n",
       "  'SAFETY']}"
      ]
     },
     "execution_count": 44,
     "metadata": {},
     "output_type": "execute_result"
    }
   ],
   "source": [
    "results_details"
   ]
  },
  {
   "cell_type": "markdown",
   "id": "44680377",
   "metadata": {},
   "source": [
    "## 2"
   ]
  },
  {
   "cell_type": "code",
   "execution_count": null,
   "id": "30fc4c73",
   "metadata": {},
   "outputs": [],
   "source": [
    "results_details2=scrapper.get_result_similar(\"https://www.gotoauto.ca/inventory/view/14867223/\",group_by_alias=True)"
   ]
  },
  {
   "cell_type": "code",
   "execution_count": 55,
   "id": "9026fbcb",
   "metadata": {},
   "outputs": [
    {
     "data": {
      "text/plain": [
       "{'Description': [\"The S4 uses a supercharged 3.0-liter TFSI V6 engine that makes 333 horsepower and 325 lb-ft of torque, mated to seven-speed S tronic automatic transmission with Quattro all-wheel drive.Loaded with Navigation, rear parking system with rearview camera, Audi side assist lane-change assistant, Audi drive select with quattro sport differential, leather/alcantara seats, power sunroof, power windows, power heatable mirrors, power-adjustable seats with driver's memory, heated seats, power locks/Advanced key with pushbutton start, three-zone automatic climate control, cruise control, multi-function three-spoke leather-wrapped steering wheel with paddle shifters, CD player with Bang & Olufsen premium sound system and steering audio controls, AUX/Sirius XM/Bluetooth connectivity, garage door opener, auto-dimming rear-view mirror with compass, LED daytime running lights, automatic adaptive headlamps with washers, LED taillights, fog lights, newer tires, alloy rims, ABS brakes, traction and stability control. Vehicle in mint condition, fun to drive, recently serviced and priced to sell. Trades welcome, extended warranty and financing available.\",\n",
       "  'MECHANICAL',\n",
       "  'EXTERIOR',\n",
       "  'ENTERTAINMENT',\n",
       "  'INTERIOR',\n",
       "  'SAFETY']}"
      ]
     },
     "execution_count": 55,
     "metadata": {},
     "output_type": "execute_result"
    }
   ],
   "source": [
    "results_details2"
   ]
  },
  {
   "cell_type": "markdown",
   "id": "57c2c8dc",
   "metadata": {},
   "source": [
    "## 3"
   ]
  },
  {
   "cell_type": "code",
   "execution_count": 56,
   "id": "b166e5a6",
   "metadata": {},
   "outputs": [],
   "source": [
    "results_details3=scrapper.get_result_similar(\"https://www.gotoauto.ca/inventory/view/14648546/\",group_by_alias=True)"
   ]
  },
  {
   "cell_type": "code",
   "execution_count": 57,
   "id": "6547ee44",
   "metadata": {},
   "outputs": [
    {
     "data": {
      "text/plain": [
       "{'Description': [\"The S5 uses a 3.0-liter supercharged TFSI V6 engine that makes 333 horsepower and 325 lb-ft of torque, comes with seven-speed S tronic dual-clutch automatic transmission and Audi's Quattro all-wheel drive system with sport suspension.Loaded with Navigation, parking system with rear view camera, Audi side assist, leather seats, panoramic tilting sunroof, power windows, power heated auto-dimming side mirrors, power-adjustable sport seats with driver's memory and lumbar support, heated seats, power locks/Advanced key with pushbutton start, three-zone automatic climate control, cruise control, tilt and telescopic three-spoke multifunction flat-bottom sport leather-trimmed steering wheel with shift paddles, CD player with Bang & Olufsen premium sound system and steering audio controls, AUX/Satellite radio/Bluetooth connectivity, garage door opener, auto-dimming rear-view mirror with compass, adaptive Xenon plus headlights with cornering and headlamp washers, LED daytime running lights, fog lights, newer tires, alloy rims, ABS brakes, traction and stability control. Vehicle in mint condition, fun to drive, recently serviced and priced to sell. Trades welcome, extended warranty and financing available.\",\n",
       "  'MECHANICAL',\n",
       "  'EXTERIOR',\n",
       "  'ENTERTAINMENT',\n",
       "  'INTERIOR',\n",
       "  'SAFETY']}"
      ]
     },
     "execution_count": 57,
     "metadata": {},
     "output_type": "execute_result"
    }
   ],
   "source": [
    "results_details3"
   ]
  },
  {
   "cell_type": "markdown",
   "id": "a479ab09",
   "metadata": {},
   "source": [
    "## 4"
   ]
  },
  {
   "cell_type": "code",
   "execution_count": 58,
   "id": "ac8a9083",
   "metadata": {},
   "outputs": [],
   "source": [
    "results_details4=scrapper.get_result_similar(\"https://www.gotoauto.ca/inventory/view/14964627/\",group_by_alias=True)"
   ]
  },
  {
   "cell_type": "code",
   "execution_count": 59,
   "id": "691b72de",
   "metadata": {},
   "outputs": [
    {
     "data": {
      "text/plain": [
       "{'Description': [\"The S6 uses a powerful 4.0-liter turbocharged TFSI V8 engine developing 420 horsepower and 406 pound-feet of torque, paired with a seven-speed S-tronic dual-clutch automatic transmission with manual mode and Audi's quattro all-wheel drive system with sport differential.Loaded with Navigation, rear and top view camera, advanced parking system with front & rear sensors, Audi side assist and Audi pre sense, head-up display, night vision assistant, high beam assistant, Audi drive select, valcona leather front S sport seats, carbon atlas interior trim, power sunroof, power windows, power-folding/heated auto-dimming sideview mirrors with integrated LED turn signals, power-adjustable seats with lumbar support and driver's memory, front & rear heated seats, power rear sunshade, manual sunshade for rear side windows, power locks/Advanced key with pushbutton start, four-zone automatic climate control, adaptive cruise control with stop & go, three-spoke multi-function power tilt/telescopic heated steering wheel with gearshift paddles, CD player with Bang & Olufsen premium sound system and steering audio controls, AUX/Satellite radio/Bluetooth connectivity, garage door opener, auto-dimming rear-view mirror, ambient lighting, LED headlights, fog lights, brand new tires, alloy rims, ABS brakes, traction and stability control. Vehicle in mint condition, fun to drive, recently serviced and priced to sell. Trades welcome, extended warranty and financing available.\",\n",
       "  'MECHANICAL',\n",
       "  'EXTERIOR',\n",
       "  'ENTERTAINMENT',\n",
       "  'INTERIOR',\n",
       "  'SAFETY']}"
      ]
     },
     "execution_count": 59,
     "metadata": {},
     "output_type": "execute_result"
    }
   ],
   "source": [
    "results_details4"
   ]
  },
  {
   "cell_type": "markdown",
   "id": "e0ef0240",
   "metadata": {},
   "source": [
    "## 5"
   ]
  },
  {
   "cell_type": "code",
   "execution_count": 60,
   "id": "00ec9519",
   "metadata": {},
   "outputs": [],
   "source": [
    "results_details5=scrapper.get_result_similar(\"https://www.gotoauto.ca/inventory/view/14870281/\",group_by_alias=True)"
   ]
  },
  {
   "cell_type": "code",
   "execution_count": 61,
   "id": "e5688f7f",
   "metadata": {},
   "outputs": [
    {
     "data": {
      "text/plain": [
       "{'Description': [\"The S7 uses a powerful 4.0-liter twin-turbo V8 TFSI engine with direct fuel injection that makes 420 horsepower and 405 pound-feet of torque, paired with a seven-speed S-tronic automatic transmission with manual mode and Audi's quattro all-wheel drive system with sport differential.Loaded with Navigation, top and corner view camera system with front and rear acoustic sensors, Audi side assist and Audi pre sense plus, Audi drive select, valcona leather S super sport front seats, power sunroof, power windows, power-folding auto-dimming sideview mirrors with integrated LED turn signals, power-adjustable seats with driver's memory, front & rear heated seats, power hatch open and close, retractable rear spoiler, power locks/Advanced key with pushbutton start, four-zone automatic climate control, adaptive cruise control with stop & go, three-spoke multi-function power tilt/telescopic heated steering wheel with gearshift paddles, CD player with Bose premium sound system and steering audio controls, AUX/Satellite radio/Bluetooth connectivity, garage door opener, auto-dimming rear-view mirror, ambient lighting, bi-xenon headlights with LED daytime running lights/tail lights, fog lights, newer tires, alloy rims, ABS brakes, traction and stability control. Vehicle in mint condition, fun to drive, recently serviced and priced to sell. Trades welcome, extended warranty and financing available.\",\n",
       "  'MECHANICAL',\n",
       "  'EXTERIOR',\n",
       "  'ENTERTAINMENT',\n",
       "  'INTERIOR',\n",
       "  'SAFETY']}"
      ]
     },
     "execution_count": 61,
     "metadata": {},
     "output_type": "execute_result"
    }
   ],
   "source": [
    "results_details5"
   ]
  },
  {
   "cell_type": "markdown",
   "id": "b61787d8",
   "metadata": {},
   "source": [
    "## 6"
   ]
  },
  {
   "cell_type": "code",
   "execution_count": 62,
   "id": "8329576d",
   "metadata": {},
   "outputs": [],
   "source": [
    "results_details6=scrapper.get_result_similar(\"https://www.gotoauto.ca/inventory/view/14648826/\",group_by_alias=True)"
   ]
  },
  {
   "cell_type": "code",
   "execution_count": 63,
   "id": "b291eed4",
   "metadata": {},
   "outputs": [
    {
     "data": {
      "text/plain": [
       "{'Description': ['The 330i uses a 2.0L turbocharged four-cylinder engine that makes 248 hp and 258 lb-ft of torque, comes with an eight-speed automatic transmission and xDrive all-wheel drive system.Loaded with Navigation, rearview camera, driving dynamics control modes, leather seats, power windows, power heated side mirrors with integrated turn signals, power-adjustable seats with driver memory, heated seats, power locks/keyless entry with pushbutton start, engine auto start/stop with deactivation button, dual-zone automatic climate control, cruise control, heated leather-wrapped multi-function sport steering wheel, tilt-and-telescopic steering column, CD player with premium sound system and steering audio controls, USB/Bluetooth connectivity, auto-dimming rear-view mirror, LED headlights with LED daytime running lights, fog lights, newer tires, alloy rims, ABS brakes, traction and stability control. Vehicle in mint condition, fun to drive, recently serviced and priced to sell. Trades welcome, extended warranty and financing available.',\n",
       "  'MECHANICAL',\n",
       "  'EXTERIOR',\n",
       "  'ENTERTAINMENT',\n",
       "  'INTERIOR',\n",
       "  'SAFETY']}"
      ]
     },
     "execution_count": 63,
     "metadata": {},
     "output_type": "execute_result"
    }
   ],
   "source": [
    "results_details6"
   ]
  },
  {
   "cell_type": "markdown",
   "id": "b1050757",
   "metadata": {},
   "source": [
    "## Convert first car details to dictionary"
   ]
  },
  {
   "cell_type": "code",
   "execution_count": 65,
   "id": "c866b46f",
   "metadata": {},
   "outputs": [
    {
     "data": {
      "text/plain": [
       "{'Description': [\"The Q5 2.0T comes with a 2.0L turbocharged four-cylinder engine that makes 220 hp/258 lb-ft of torque, paired with eight-speed Tiptronic automatic transmission with drive select and Audi's Quattro all-wheel drive system.Loaded with rear parking sensors, leather seats, panoramic sunroof, power windows, power-folding and heated auto-dimming exterior mirrors with integrated LED turn signals, power-adjustable seats with driver's memory and lumbar, heated seats, power tailgate, power locks/Advanced key with pushbutton start, three-zone automatic climate control, cruise control, multifunction leather-wrapped tilt and telescopic steering wheel, CD player with premium sound system and steering audio controls, AUX/Sirius satellite radio/Bluetooth connectivity, auto-dimming rearview mirror with compass, automatic bi-xenon headlights with headlamp washers, LED daytime running lights, fog lights, LED taillights, newer tires, alloy rims, ABS brakes, traction and stability control. Vehicle in mint condition, lots of power, fun to drive, good for all season, recently serviced and priced to sell. Trades welcome, extended warranty and financing available.\",\n",
       "  'MECHANICAL',\n",
       "  'EXTERIOR',\n",
       "  'ENTERTAINMENT',\n",
       "  'INTERIOR',\n",
       "  'SAFETY']}"
      ]
     },
     "execution_count": 65,
     "metadata": {},
     "output_type": "execute_result"
    }
   ],
   "source": [
    "result_details_data={'Description':results_details['Description']}\n",
    "result_details_data"
   ]
  },
  {
   "cell_type": "markdown",
   "id": "4416804e",
   "metadata": {},
   "source": [
    "## Convert dictionary to dataframe"
   ]
  },
  {
   "cell_type": "code",
   "execution_count": 68,
   "id": "8eb68b5d",
   "metadata": {},
   "outputs": [],
   "source": [
    "result_details_dataframe=pd.DataFrame(result_details_data)"
   ]
  },
  {
   "cell_type": "code",
   "execution_count": 69,
   "id": "333df69f",
   "metadata": {},
   "outputs": [
    {
     "data": {
      "text/html": [
       "<div>\n",
       "<style scoped>\n",
       "    .dataframe tbody tr th:only-of-type {\n",
       "        vertical-align: middle;\n",
       "    }\n",
       "\n",
       "    .dataframe tbody tr th {\n",
       "        vertical-align: top;\n",
       "    }\n",
       "\n",
       "    .dataframe thead th {\n",
       "        text-align: right;\n",
       "    }\n",
       "</style>\n",
       "<table border=\"1\" class=\"dataframe\">\n",
       "  <thead>\n",
       "    <tr style=\"text-align: right;\">\n",
       "      <th></th>\n",
       "      <th>Description</th>\n",
       "    </tr>\n",
       "  </thead>\n",
       "  <tbody>\n",
       "    <tr>\n",
       "      <th>0</th>\n",
       "      <td>The Q5 2.0T comes with a 2.0L turbocharged fou...</td>\n",
       "    </tr>\n",
       "    <tr>\n",
       "      <th>1</th>\n",
       "      <td>MECHANICAL</td>\n",
       "    </tr>\n",
       "    <tr>\n",
       "      <th>2</th>\n",
       "      <td>EXTERIOR</td>\n",
       "    </tr>\n",
       "    <tr>\n",
       "      <th>3</th>\n",
       "      <td>ENTERTAINMENT</td>\n",
       "    </tr>\n",
       "    <tr>\n",
       "      <th>4</th>\n",
       "      <td>INTERIOR</td>\n",
       "    </tr>\n",
       "    <tr>\n",
       "      <th>5</th>\n",
       "      <td>SAFETY</td>\n",
       "    </tr>\n",
       "  </tbody>\n",
       "</table>\n",
       "</div>"
      ],
      "text/plain": [
       "                                         Description\n",
       "0  The Q5 2.0T comes with a 2.0L turbocharged fou...\n",
       "1                                         MECHANICAL\n",
       "2                                           EXTERIOR\n",
       "3                                      ENTERTAINMENT\n",
       "4                                           INTERIOR\n",
       "5                                             SAFETY"
      ]
     },
     "execution_count": 69,
     "metadata": {},
     "output_type": "execute_result"
    }
   ],
   "source": [
    "result_details_dataframe"
   ]
  },
  {
   "cell_type": "markdown",
   "id": "b8c2878b",
   "metadata": {},
   "source": [
    "## text files of first car details"
   ]
  },
  {
   "cell_type": "code",
   "execution_count": 70,
   "id": "4c9e7102",
   "metadata": {},
   "outputs": [],
   "source": [
    "result_details_dataframe.to_csv('Car details 2017 AUDI Q5.txt')"
   ]
  },
  {
   "cell_type": "markdown",
   "id": "bcde41f9",
   "metadata": {},
   "source": [
    "## Convert second car details to dictionary"
   ]
  },
  {
   "cell_type": "code",
   "execution_count": 71,
   "id": "259e93f6",
   "metadata": {},
   "outputs": [],
   "source": [
    "results_details2_data={'Description':results_details2['Description']}"
   ]
  },
  {
   "cell_type": "code",
   "execution_count": 72,
   "id": "b7d8c78a",
   "metadata": {},
   "outputs": [
    {
     "data": {
      "text/plain": [
       "{'Description': [\"The S4 uses a supercharged 3.0-liter TFSI V6 engine that makes 333 horsepower and 325 lb-ft of torque, mated to seven-speed S tronic automatic transmission with Quattro all-wheel drive.Loaded with Navigation, rear parking system with rearview camera, Audi side assist lane-change assistant, Audi drive select with quattro sport differential, leather/alcantara seats, power sunroof, power windows, power heatable mirrors, power-adjustable seats with driver's memory, heated seats, power locks/Advanced key with pushbutton start, three-zone automatic climate control, cruise control, multi-function three-spoke leather-wrapped steering wheel with paddle shifters, CD player with Bang & Olufsen premium sound system and steering audio controls, AUX/Sirius XM/Bluetooth connectivity, garage door opener, auto-dimming rear-view mirror with compass, LED daytime running lights, automatic adaptive headlamps with washers, LED taillights, fog lights, newer tires, alloy rims, ABS brakes, traction and stability control. Vehicle in mint condition, fun to drive, recently serviced and priced to sell. Trades welcome, extended warranty and financing available.\",\n",
       "  'MECHANICAL',\n",
       "  'EXTERIOR',\n",
       "  'ENTERTAINMENT',\n",
       "  'INTERIOR',\n",
       "  'SAFETY']}"
      ]
     },
     "execution_count": 72,
     "metadata": {},
     "output_type": "execute_result"
    }
   ],
   "source": [
    "results_details2_data"
   ]
  },
  {
   "cell_type": "markdown",
   "id": "8f20425e",
   "metadata": {},
   "source": [
    "## Convert dictionary to dataframe"
   ]
  },
  {
   "cell_type": "code",
   "execution_count": 74,
   "id": "a410ea3c",
   "metadata": {},
   "outputs": [],
   "source": [
    "result_details2_dataframe=pd.DataFrame(results_details2_data)"
   ]
  },
  {
   "cell_type": "code",
   "execution_count": 75,
   "id": "246973e2",
   "metadata": {},
   "outputs": [
    {
     "data": {
      "text/html": [
       "<div>\n",
       "<style scoped>\n",
       "    .dataframe tbody tr th:only-of-type {\n",
       "        vertical-align: middle;\n",
       "    }\n",
       "\n",
       "    .dataframe tbody tr th {\n",
       "        vertical-align: top;\n",
       "    }\n",
       "\n",
       "    .dataframe thead th {\n",
       "        text-align: right;\n",
       "    }\n",
       "</style>\n",
       "<table border=\"1\" class=\"dataframe\">\n",
       "  <thead>\n",
       "    <tr style=\"text-align: right;\">\n",
       "      <th></th>\n",
       "      <th>Description</th>\n",
       "    </tr>\n",
       "  </thead>\n",
       "  <tbody>\n",
       "    <tr>\n",
       "      <th>0</th>\n",
       "      <td>The S4 uses a supercharged 3.0-liter TFSI V6 e...</td>\n",
       "    </tr>\n",
       "    <tr>\n",
       "      <th>1</th>\n",
       "      <td>MECHANICAL</td>\n",
       "    </tr>\n",
       "    <tr>\n",
       "      <th>2</th>\n",
       "      <td>EXTERIOR</td>\n",
       "    </tr>\n",
       "    <tr>\n",
       "      <th>3</th>\n",
       "      <td>ENTERTAINMENT</td>\n",
       "    </tr>\n",
       "    <tr>\n",
       "      <th>4</th>\n",
       "      <td>INTERIOR</td>\n",
       "    </tr>\n",
       "    <tr>\n",
       "      <th>5</th>\n",
       "      <td>SAFETY</td>\n",
       "    </tr>\n",
       "  </tbody>\n",
       "</table>\n",
       "</div>"
      ],
      "text/plain": [
       "                                         Description\n",
       "0  The S4 uses a supercharged 3.0-liter TFSI V6 e...\n",
       "1                                         MECHANICAL\n",
       "2                                           EXTERIOR\n",
       "3                                      ENTERTAINMENT\n",
       "4                                           INTERIOR\n",
       "5                                             SAFETY"
      ]
     },
     "execution_count": 75,
     "metadata": {},
     "output_type": "execute_result"
    }
   ],
   "source": [
    "result_details2_dataframe"
   ]
  },
  {
   "cell_type": "markdown",
   "id": "9f7d4298",
   "metadata": {},
   "source": [
    "## Take text file second car details"
   ]
  },
  {
   "cell_type": "code",
   "execution_count": 76,
   "id": "df2e7dd6",
   "metadata": {},
   "outputs": [],
   "source": [
    "result_details2_dataframe.to_csv('Car details 2012 AUDI S4.txt')"
   ]
  },
  {
   "cell_type": "code",
   "execution_count": 78,
   "id": "88797f39",
   "metadata": {},
   "outputs": [],
   "source": [
    "results_details3_data={'Description':results_details3['Description']}"
   ]
  },
  {
   "cell_type": "code",
   "execution_count": 79,
   "id": "48013e9c",
   "metadata": {},
   "outputs": [
    {
     "data": {
      "text/plain": [
       "{'Description': [\"The S5 uses a 3.0-liter supercharged TFSI V6 engine that makes 333 horsepower and 325 lb-ft of torque, comes with seven-speed S tronic dual-clutch automatic transmission and Audi's Quattro all-wheel drive system with sport suspension.Loaded with Navigation, parking system with rear view camera, Audi side assist, leather seats, panoramic tilting sunroof, power windows, power heated auto-dimming side mirrors, power-adjustable sport seats with driver's memory and lumbar support, heated seats, power locks/Advanced key with pushbutton start, three-zone automatic climate control, cruise control, tilt and telescopic three-spoke multifunction flat-bottom sport leather-trimmed steering wheel with shift paddles, CD player with Bang & Olufsen premium sound system and steering audio controls, AUX/Satellite radio/Bluetooth connectivity, garage door opener, auto-dimming rear-view mirror with compass, adaptive Xenon plus headlights with cornering and headlamp washers, LED daytime running lights, fog lights, newer tires, alloy rims, ABS brakes, traction and stability control. Vehicle in mint condition, fun to drive, recently serviced and priced to sell. Trades welcome, extended warranty and financing available.\",\n",
       "  'MECHANICAL',\n",
       "  'EXTERIOR',\n",
       "  'ENTERTAINMENT',\n",
       "  'INTERIOR',\n",
       "  'SAFETY']}"
      ]
     },
     "execution_count": 79,
     "metadata": {},
     "output_type": "execute_result"
    }
   ],
   "source": [
    "results_details3_data"
   ]
  },
  {
   "cell_type": "markdown",
   "id": "8ffcff1d",
   "metadata": {},
   "source": [
    "## Convert third car details to dictionary"
   ]
  },
  {
   "cell_type": "code",
   "execution_count": 80,
   "id": "d93258d0",
   "metadata": {},
   "outputs": [],
   "source": [
    "result_details3_dataframe=pd.DataFrame(results_details3_data)"
   ]
  },
  {
   "cell_type": "markdown",
   "id": "e9b7894f",
   "metadata": {},
   "source": [
    "## Convert dictionary to dataframe"
   ]
  },
  {
   "cell_type": "code",
   "execution_count": 81,
   "id": "294bcf86",
   "metadata": {},
   "outputs": [
    {
     "data": {
      "text/html": [
       "<div>\n",
       "<style scoped>\n",
       "    .dataframe tbody tr th:only-of-type {\n",
       "        vertical-align: middle;\n",
       "    }\n",
       "\n",
       "    .dataframe tbody tr th {\n",
       "        vertical-align: top;\n",
       "    }\n",
       "\n",
       "    .dataframe thead th {\n",
       "        text-align: right;\n",
       "    }\n",
       "</style>\n",
       "<table border=\"1\" class=\"dataframe\">\n",
       "  <thead>\n",
       "    <tr style=\"text-align: right;\">\n",
       "      <th></th>\n",
       "      <th>Description</th>\n",
       "    </tr>\n",
       "  </thead>\n",
       "  <tbody>\n",
       "    <tr>\n",
       "      <th>0</th>\n",
       "      <td>The S5 uses a 3.0-liter supercharged TFSI V6 e...</td>\n",
       "    </tr>\n",
       "    <tr>\n",
       "      <th>1</th>\n",
       "      <td>MECHANICAL</td>\n",
       "    </tr>\n",
       "    <tr>\n",
       "      <th>2</th>\n",
       "      <td>EXTERIOR</td>\n",
       "    </tr>\n",
       "    <tr>\n",
       "      <th>3</th>\n",
       "      <td>ENTERTAINMENT</td>\n",
       "    </tr>\n",
       "    <tr>\n",
       "      <th>4</th>\n",
       "      <td>INTERIOR</td>\n",
       "    </tr>\n",
       "    <tr>\n",
       "      <th>5</th>\n",
       "      <td>SAFETY</td>\n",
       "    </tr>\n",
       "  </tbody>\n",
       "</table>\n",
       "</div>"
      ],
      "text/plain": [
       "                                         Description\n",
       "0  The S5 uses a 3.0-liter supercharged TFSI V6 e...\n",
       "1                                         MECHANICAL\n",
       "2                                           EXTERIOR\n",
       "3                                      ENTERTAINMENT\n",
       "4                                           INTERIOR\n",
       "5                                             SAFETY"
      ]
     },
     "execution_count": 81,
     "metadata": {},
     "output_type": "execute_result"
    }
   ],
   "source": [
    "result_details3_dataframe"
   ]
  },
  {
   "cell_type": "markdown",
   "id": "facfd323",
   "metadata": {},
   "source": [
    "## Take text file of third car details"
   ]
  },
  {
   "cell_type": "code",
   "execution_count": 82,
   "id": "97c481c3",
   "metadata": {},
   "outputs": [],
   "source": [
    "result_details3_dataframe.to_csv('Car details 2014 AUDI S5.txt')"
   ]
  },
  {
   "cell_type": "markdown",
   "id": "27e33d85",
   "metadata": {},
   "source": [
    "## Convert fourth car details to dictionary"
   ]
  },
  {
   "cell_type": "code",
   "execution_count": 83,
   "id": "b08644c4",
   "metadata": {},
   "outputs": [],
   "source": [
    "results_details4_data={'Description':results_details4['Description']}"
   ]
  },
  {
   "cell_type": "code",
   "execution_count": 84,
   "id": "06a30267",
   "metadata": {},
   "outputs": [
    {
     "data": {
      "text/plain": [
       "{'Description': [\"The S6 uses a powerful 4.0-liter turbocharged TFSI V8 engine developing 420 horsepower and 406 pound-feet of torque, paired with a seven-speed S-tronic dual-clutch automatic transmission with manual mode and Audi's quattro all-wheel drive system with sport differential.Loaded with Navigation, rear and top view camera, advanced parking system with front & rear sensors, Audi side assist and Audi pre sense, head-up display, night vision assistant, high beam assistant, Audi drive select, valcona leather front S sport seats, carbon atlas interior trim, power sunroof, power windows, power-folding/heated auto-dimming sideview mirrors with integrated LED turn signals, power-adjustable seats with lumbar support and driver's memory, front & rear heated seats, power rear sunshade, manual sunshade for rear side windows, power locks/Advanced key with pushbutton start, four-zone automatic climate control, adaptive cruise control with stop & go, three-spoke multi-function power tilt/telescopic heated steering wheel with gearshift paddles, CD player with Bang & Olufsen premium sound system and steering audio controls, AUX/Satellite radio/Bluetooth connectivity, garage door opener, auto-dimming rear-view mirror, ambient lighting, LED headlights, fog lights, brand new tires, alloy rims, ABS brakes, traction and stability control. Vehicle in mint condition, fun to drive, recently serviced and priced to sell. Trades welcome, extended warranty and financing available.\",\n",
       "  'MECHANICAL',\n",
       "  'EXTERIOR',\n",
       "  'ENTERTAINMENT',\n",
       "  'INTERIOR',\n",
       "  'SAFETY']}"
      ]
     },
     "execution_count": 84,
     "metadata": {},
     "output_type": "execute_result"
    }
   ],
   "source": [
    "results_details4_data"
   ]
  },
  {
   "cell_type": "markdown",
   "id": "a4e4989c",
   "metadata": {},
   "source": [
    "## Convert dictionary to dataframe"
   ]
  },
  {
   "cell_type": "code",
   "execution_count": 86,
   "id": "097a1eb4",
   "metadata": {},
   "outputs": [],
   "source": [
    "result_details4_dataframe=pd.DataFrame(results_details4_data)"
   ]
  },
  {
   "cell_type": "code",
   "execution_count": 87,
   "id": "babd0a1f",
   "metadata": {},
   "outputs": [
    {
     "data": {
      "text/html": [
       "<div>\n",
       "<style scoped>\n",
       "    .dataframe tbody tr th:only-of-type {\n",
       "        vertical-align: middle;\n",
       "    }\n",
       "\n",
       "    .dataframe tbody tr th {\n",
       "        vertical-align: top;\n",
       "    }\n",
       "\n",
       "    .dataframe thead th {\n",
       "        text-align: right;\n",
       "    }\n",
       "</style>\n",
       "<table border=\"1\" class=\"dataframe\">\n",
       "  <thead>\n",
       "    <tr style=\"text-align: right;\">\n",
       "      <th></th>\n",
       "      <th>Description</th>\n",
       "    </tr>\n",
       "  </thead>\n",
       "  <tbody>\n",
       "    <tr>\n",
       "      <th>0</th>\n",
       "      <td>The S6 uses a powerful 4.0-liter turbocharged ...</td>\n",
       "    </tr>\n",
       "    <tr>\n",
       "      <th>1</th>\n",
       "      <td>MECHANICAL</td>\n",
       "    </tr>\n",
       "    <tr>\n",
       "      <th>2</th>\n",
       "      <td>EXTERIOR</td>\n",
       "    </tr>\n",
       "    <tr>\n",
       "      <th>3</th>\n",
       "      <td>ENTERTAINMENT</td>\n",
       "    </tr>\n",
       "    <tr>\n",
       "      <th>4</th>\n",
       "      <td>INTERIOR</td>\n",
       "    </tr>\n",
       "    <tr>\n",
       "      <th>5</th>\n",
       "      <td>SAFETY</td>\n",
       "    </tr>\n",
       "  </tbody>\n",
       "</table>\n",
       "</div>"
      ],
      "text/plain": [
       "                                         Description\n",
       "0  The S6 uses a powerful 4.0-liter turbocharged ...\n",
       "1                                         MECHANICAL\n",
       "2                                           EXTERIOR\n",
       "3                                      ENTERTAINMENT\n",
       "4                                           INTERIOR\n",
       "5                                             SAFETY"
      ]
     },
     "execution_count": 87,
     "metadata": {},
     "output_type": "execute_result"
    }
   ],
   "source": [
    "result_details4_dataframe"
   ]
  },
  {
   "cell_type": "markdown",
   "id": "50b9ae6f",
   "metadata": {},
   "source": [
    "## Take text file of fourth car details"
   ]
  },
  {
   "cell_type": "code",
   "execution_count": 88,
   "id": "112b4d26",
   "metadata": {},
   "outputs": [],
   "source": [
    "result_details4_dataframe.to_csv('Car details 2014 AUDI S6.txt')"
   ]
  },
  {
   "cell_type": "markdown",
   "id": "8713e458",
   "metadata": {},
   "source": [
    "## Convert fifth car details to dictionary"
   ]
  },
  {
   "cell_type": "code",
   "execution_count": 89,
   "id": "b7c0a344",
   "metadata": {},
   "outputs": [],
   "source": [
    "results_details5_data={'Description':results_details5['Description']}"
   ]
  },
  {
   "cell_type": "code",
   "execution_count": 90,
   "id": "d7ea3b33",
   "metadata": {},
   "outputs": [
    {
     "data": {
      "text/plain": [
       "{'Description': [\"The S7 uses a powerful 4.0-liter twin-turbo V8 TFSI engine with direct fuel injection that makes 420 horsepower and 405 pound-feet of torque, paired with a seven-speed S-tronic automatic transmission with manual mode and Audi's quattro all-wheel drive system with sport differential.Loaded with Navigation, top and corner view camera system with front and rear acoustic sensors, Audi side assist and Audi pre sense plus, Audi drive select, valcona leather S super sport front seats, power sunroof, power windows, power-folding auto-dimming sideview mirrors with integrated LED turn signals, power-adjustable seats with driver's memory, front & rear heated seats, power hatch open and close, retractable rear spoiler, power locks/Advanced key with pushbutton start, four-zone automatic climate control, adaptive cruise control with stop & go, three-spoke multi-function power tilt/telescopic heated steering wheel with gearshift paddles, CD player with Bose premium sound system and steering audio controls, AUX/Satellite radio/Bluetooth connectivity, garage door opener, auto-dimming rear-view mirror, ambient lighting, bi-xenon headlights with LED daytime running lights/tail lights, fog lights, newer tires, alloy rims, ABS brakes, traction and stability control. Vehicle in mint condition, fun to drive, recently serviced and priced to sell. Trades welcome, extended warranty and financing available.\",\n",
       "  'MECHANICAL',\n",
       "  'EXTERIOR',\n",
       "  'ENTERTAINMENT',\n",
       "  'INTERIOR',\n",
       "  'SAFETY']}"
      ]
     },
     "execution_count": 90,
     "metadata": {},
     "output_type": "execute_result"
    }
   ],
   "source": [
    "results_details5_data"
   ]
  },
  {
   "cell_type": "markdown",
   "id": "a95e679c",
   "metadata": {},
   "source": [
    "## Convert dictionary to dataframe"
   ]
  },
  {
   "cell_type": "code",
   "execution_count": 91,
   "id": "f0379f4c",
   "metadata": {},
   "outputs": [],
   "source": [
    "result_details5_dataframe=pd.DataFrame(results_details5_data)"
   ]
  },
  {
   "cell_type": "code",
   "execution_count": 92,
   "id": "c8c32cdd",
   "metadata": {},
   "outputs": [
    {
     "data": {
      "text/html": [
       "<div>\n",
       "<style scoped>\n",
       "    .dataframe tbody tr th:only-of-type {\n",
       "        vertical-align: middle;\n",
       "    }\n",
       "\n",
       "    .dataframe tbody tr th {\n",
       "        vertical-align: top;\n",
       "    }\n",
       "\n",
       "    .dataframe thead th {\n",
       "        text-align: right;\n",
       "    }\n",
       "</style>\n",
       "<table border=\"1\" class=\"dataframe\">\n",
       "  <thead>\n",
       "    <tr style=\"text-align: right;\">\n",
       "      <th></th>\n",
       "      <th>Description</th>\n",
       "    </tr>\n",
       "  </thead>\n",
       "  <tbody>\n",
       "    <tr>\n",
       "      <th>0</th>\n",
       "      <td>The S7 uses a powerful 4.0-liter twin-turbo V8...</td>\n",
       "    </tr>\n",
       "    <tr>\n",
       "      <th>1</th>\n",
       "      <td>MECHANICAL</td>\n",
       "    </tr>\n",
       "    <tr>\n",
       "      <th>2</th>\n",
       "      <td>EXTERIOR</td>\n",
       "    </tr>\n",
       "    <tr>\n",
       "      <th>3</th>\n",
       "      <td>ENTERTAINMENT</td>\n",
       "    </tr>\n",
       "    <tr>\n",
       "      <th>4</th>\n",
       "      <td>INTERIOR</td>\n",
       "    </tr>\n",
       "    <tr>\n",
       "      <th>5</th>\n",
       "      <td>SAFETY</td>\n",
       "    </tr>\n",
       "  </tbody>\n",
       "</table>\n",
       "</div>"
      ],
      "text/plain": [
       "                                         Description\n",
       "0  The S7 uses a powerful 4.0-liter twin-turbo V8...\n",
       "1                                         MECHANICAL\n",
       "2                                           EXTERIOR\n",
       "3                                      ENTERTAINMENT\n",
       "4                                           INTERIOR\n",
       "5                                             SAFETY"
      ]
     },
     "execution_count": 92,
     "metadata": {},
     "output_type": "execute_result"
    }
   ],
   "source": [
    "result_details5_dataframe"
   ]
  },
  {
   "cell_type": "markdown",
   "id": "b696e871",
   "metadata": {},
   "source": [
    "## Take text file of fifth car details"
   ]
  },
  {
   "cell_type": "code",
   "execution_count": 93,
   "id": "a199147d",
   "metadata": {},
   "outputs": [],
   "source": [
    "result_details5_dataframe.to_csv('Car details 2013 AUDI S7.txt')"
   ]
  },
  {
   "cell_type": "markdown",
   "id": "310026c2",
   "metadata": {},
   "source": [
    "## Finished !"
   ]
  }
 ],
 "metadata": {
  "kernelspec": {
   "display_name": "Python 3 (ipykernel)",
   "language": "python",
   "name": "python3"
  },
  "language_info": {
   "codemirror_mode": {
    "name": "ipython",
    "version": 3
   },
   "file_extension": ".py",
   "mimetype": "text/x-python",
   "name": "python",
   "nbconvert_exporter": "python",
   "pygments_lexer": "ipython3",
   "version": "3.8.12"
  }
 },
 "nbformat": 4,
 "nbformat_minor": 5
}
